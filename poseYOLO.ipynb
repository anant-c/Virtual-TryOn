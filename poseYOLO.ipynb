{
 "cells": [
  {
   "attachments": {},
   "cell_type": "markdown",
   "metadata": {},
   "source": [
    "# 0. Install and Import Dependencies"
   ]
  },
  {
   "cell_type": "code",
   "execution_count": 7,
   "metadata": {},
   "outputs": [
    {
     "name": "stdout",
     "output_type": "stream",
     "text": [
      "Note: you may need to restart the kernel to use updated packages.\n"
     ]
    },
    {
     "name": "stderr",
     "output_type": "stream",
     "text": [
      "ERROR: Could not find a version that satisfies the requirement tensorflow==2.4.1 (from versions: 2.12.0rc0, 2.12.0rc1, 2.12.0, 2.12.1, 2.13.0rc0, 2.13.0rc1, 2.13.0rc2, 2.13.0, 2.13.1, 2.14.0rc0, 2.14.0rc1, 2.14.0)\n",
      "ERROR: No matching distribution found for tensorflow==2.4.1\n"
     ]
    }
   ],
   "source": [
    "%pip install tensorflow==2.4.1 tensorflow-gpu==2.4.1 opencv-python matplotlib"
   ]
  },
  {
   "cell_type": "code",
   "execution_count": 2,
   "metadata": {},
   "outputs": [],
   "source": [
    "import tensorflow as tf\n",
    "import numpy as np\n",
    "from matplotlib import pyplot as plt\n",
    "from ultralytics import YOLO\n",
    "import cv2\n",
    "from skimage.metrics import structural_similarity as ssim"
   ]
  },
  {
   "attachments": {},
   "cell_type": "markdown",
   "metadata": {},
   "source": [
    "# 1. Load Model"
   ]
  },
  {
   "cell_type": "code",
   "execution_count": 3,
   "metadata": {},
   "outputs": [],
   "source": [
    "model = YOLO('pose.pt', \"v8\")                                                                               "
   ]
  },
  {
   "cell_type": "code",
   "execution_count": 4,
   "metadata": {},
   "outputs": [
    {
     "name": "stderr",
     "output_type": "stream",
     "text": [
      "\n",
      "image 1/1 c:\\codes\\MACHINE LEARNING\\courseProject\\Virtual TryOn\\Virtual tryon data\\train\\image\\00002_00.jpg: 1280x960 1 person, 5675.1ms\n",
      "Speed: 34.9ms preprocess, 5675.1ms inference, 40.0ms postprocess per image at shape (1, 3, 1280, 960)\n",
      "\n",
      "image 1/1 c:\\codes\\MACHINE LEARNING\\courseProject\\Virtual TryOn\\Virtual tryon data\\train\\cloth\\00002_00.jpg: 1280x960 1 person, 4501.4ms\n",
      "Speed: 32.8ms preprocess, 4501.4ms inference, 8.3ms postprocess per image at shape (1, 3, 1280, 960)\n"
     ]
    }
   ],
   "source": [
    "img_dest='Virtual tryon data\\\\train\\\\image\\\\'\n",
    "img_name='00002_00.jpg'\n",
    "cloth_dest = 'Virtual tryon data\\\\train\\\\cloth\\\\'\n",
    "cloth_name = '00002_00.jpg'\n",
    "orig_img = cv2.imread(img_dest+img_name,0)\n",
    "orig_cloth = cv2.imread(cloth_dest+cloth_name,0)\n",
    "result=model.predict(img_dest+img_name)\n",
    "result_cloth=model.predict(cloth_dest+cloth_name)"
   ]
  },
  {
   "cell_type": "code",
   "execution_count": 5,
   "metadata": {},
   "outputs": [
    {
     "data": {
      "text/plain": [
       "ultralytics.engine.results.Results object with attributes:\n",
       "\n",
       "boxes: ultralytics.engine.results.Boxes object\n",
       "keypoints: ultralytics.engine.results.Keypoints object\n",
       "masks: None\n",
       "names: {0: 'person'}\n",
       "orig_img: array([[[234, 234, 234],\n",
       "        [234, 234, 234],\n",
       "        [234, 234, 234],\n",
       "        ...,\n",
       "        [235, 232, 228],\n",
       "        [235, 232, 228],\n",
       "        [235, 232, 228]],\n",
       "\n",
       "       [[234, 234, 234],\n",
       "        [234, 234, 234],\n",
       "        [234, 234, 234],\n",
       "        ...,\n",
       "        [235, 232, 228],\n",
       "        [235, 232, 228],\n",
       "        [235, 232, 228]],\n",
       "\n",
       "       [[234, 234, 234],\n",
       "        [234, 234, 234],\n",
       "        [234, 234, 234],\n",
       "        ...,\n",
       "        [235, 232, 228],\n",
       "        [235, 232, 228],\n",
       "        [235, 232, 228]],\n",
       "\n",
       "       ...,\n",
       "\n",
       "       [[234, 237, 235],\n",
       "        [234, 237, 235],\n",
       "        [234, 237, 235],\n",
       "        ...,\n",
       "        [225, 227, 227],\n",
       "        [225, 227, 227],\n",
       "        [225, 227, 227]],\n",
       "\n",
       "       [[234, 237, 235],\n",
       "        [234, 237, 235],\n",
       "        [234, 237, 235],\n",
       "        ...,\n",
       "        [227, 227, 227],\n",
       "        [225, 227, 227],\n",
       "        [225, 227, 227]],\n",
       "\n",
       "       [[234, 237, 235],\n",
       "        [234, 237, 235],\n",
       "        [234, 237, 235],\n",
       "        ...,\n",
       "        [227, 227, 227],\n",
       "        [225, 227, 227],\n",
       "        [225, 227, 227]]], dtype=uint8)\n",
       "orig_shape: (1024, 768)\n",
       "path: 'c:\\\\codes\\\\MACHINE LEARNING\\\\courseProject\\\\Virtual TryOn\\\\Virtual tryon data\\\\train\\\\image\\\\00002_00.jpg'\n",
       "probs: None\n",
       "save_dir: None\n",
       "speed: {'preprocess': 34.91806983947754, 'inference': 5675.052165985107, 'postprocess': 40.007829666137695}"
      ]
     },
     "execution_count": 5,
     "metadata": {},
     "output_type": "execute_result"
    }
   ],
   "source": [
    "result[0]"
   ]
  },
  {
   "cell_type": "code",
   "execution_count": 10,
   "metadata": {},
   "outputs": [
    {
     "name": "stderr",
     "output_type": "stream",
     "text": [
      "C:\\Users\\aakas\\AppData\\Local\\Temp\\ipykernel_1488\\411287882.py:2: VisibleDeprecationWarning: Creating an ndarray from nested sequences exceeding the maximum number of dimensions of 32 is deprecated. If you mean to do this, you must specify 'dtype=object' when creating the ndarray.\n",
      "  pose_estimation = np.array(result)\n",
      "C:\\Users\\aakas\\AppData\\Local\\Temp\\ipykernel_1488\\411287882.py:3: VisibleDeprecationWarning: Creating an ndarray from nested sequences exceeding the maximum number of dimensions of 32 is deprecated. If you mean to do this, you must specify 'dtype=object' when creating the ndarray.\n",
      "  pose_estimation_cloth = np.array(result_cloth)\n"
     ]
    }
   ],
   "source": [
    "result\n",
    "pose_estimation = np.array(result)\n",
    "pose_estimation_cloth = np.array(result_cloth)"
   ]
  },
  {
   "cell_type": "code",
   "execution_count": 20,
   "metadata": {},
   "outputs": [
    {
     "data": {
      "text/plain": [
       "array([[[[[[[[[[[[[[[[[[[[[[[[[[[[[[[[ultralytics.engine.results.Results object with attributes:\n",
       "\n",
       "                                      boxes: ultralytics.engine.results.Boxes object\n",
       "                                      keypoints: ultralytics.engine.results.Keypoints object\n",
       "                                      masks: None\n",
       "                                      names: {0: 'person'}\n",
       "                                      orig_img: array([[[234, 234, 234],\n",
       "                                              [234, 234, 234],\n",
       "                                              [234, 234, 234],\n",
       "                                              ...,\n",
       "                                              [235, 232, 228],\n",
       "                                              [235, 232, 228],\n",
       "                                              [235, 232, 228]],\n",
       "\n",
       "                                             [[234, 234, 234],\n",
       "                                              [234, 234, 234],\n",
       "                                              [234, 234, 234],\n",
       "                                              ...,\n",
       "                                              [235, 232, 228],\n",
       "                                              [235, 232, 228],\n",
       "                                              [235, 232, 228]],\n",
       "\n",
       "                                             [[234, 234, 234],\n",
       "                                              [234, 234, 234],\n",
       "                                              [234, 234, 234],\n",
       "                                              ...,\n",
       "                                              [235, 232, 228],\n",
       "                                              [235, 232, 228],\n",
       "                                              [235, 232, 228]],\n",
       "\n",
       "                                             ...,\n",
       "\n",
       "                                             [[234, 237, 235],\n",
       "                                              [234, 237, 235],\n",
       "                                              [234, 237, 235],\n",
       "                                              ...,\n",
       "                                              [225, 227, 227],\n",
       "                                              [225, 227, 227],\n",
       "                                              [225, 227, 227]],\n",
       "\n",
       "                                             [[234, 237, 235],\n",
       "                                              [234, 237, 235],\n",
       "                                              [234, 237, 235],\n",
       "                                              ...,\n",
       "                                              [227, 227, 227],\n",
       "                                              [225, 227, 227],\n",
       "                                              [225, 227, 227]],\n",
       "\n",
       "                                             [[234, 237, 235],\n",
       "                                              [234, 237, 235],\n",
       "                                              [234, 237, 235],\n",
       "                                              ...,\n",
       "                                              [227, 227, 227],\n",
       "                                              [225, 227, 227],\n",
       "                                              [225, 227, 227]]], dtype=uint8)\n",
       "                                      orig_shape: (1024, 768)\n",
       "                                      path: 'c:\\\\codes\\\\MACHINE LEARNING\\\\courseProject\\\\Virtual TryOn\\\\Virtual tryon data\\\\train\\\\image\\\\00002_00.jpg'\n",
       "                                      probs: None\n",
       "                                      save_dir: None\n",
       "                                      speed: {'preprocess': None, 'inference': None, 'postprocess': None}                                              ]]]]]]]]]]]]]]]]]]]]]]]]]]]]]]]], dtype=object)"
      ]
     },
     "execution_count": 20,
     "metadata": {},
     "output_type": "execute_result"
    }
   ],
   "source": [
    "pose_estimation"
   ]
  },
  {
   "attachments": {},
   "cell_type": "markdown",
   "metadata": {},
   "source": [
    "# 2. Make Detections"
   ]
  },
  {
   "cell_type": "code",
   "execution_count": 7,
   "metadata": {},
   "outputs": [],
   "source": [
    "# Display result\n",
    "img=result[0].plot()\n",
    "img_cloth=result_cloth[0].plot()\n",
    "# print(type(result[0]))\n",
    "cv2.imshow('YOLO pose estimation', img)\n",
    "cv2.imshow('YOLO pose estimation cloth', img_cloth)\n",
    "cv2.waitKey(0)\n",
    "cv2.destroyAllWindows()"
   ]
  },
  {
   "attachments": {},
   "cell_type": "markdown",
   "metadata": {},
   "source": [
    "Making the correlation matrix"
   ]
  },
  {
   "cell_type": "code",
   "execution_count": 7,
   "metadata": {},
   "outputs": [
    {
     "name": "stdout",
     "output_type": "stream",
     "text": [
      "(1, 1, 1, 1, 1, 1, 1, 1, 1, 1, 1, 1, 1, 1, 1, 1, 1, 1, 1, 1, 1, 1, 1, 1, 1, 1, 1, 1, 1, 1, 1)\n",
      "(1, 1, 1, 1, 1, 1, 1, 1, 1, 1, 1, 1, 1, 1, 1, 1, 1, 1, 1, 1, 1, 1, 1, 1, 1, 1, 1, 1, 1, 1, 1)\n"
     ]
    }
   ],
   "source": [
    "\n",
    "print(pose_estimation[0].shape)\n",
    "print(pose_estimation_cloth[0].shape)\n"
   ]
  },
  {
   "cell_type": "code",
   "execution_count": 17,
   "metadata": {},
   "outputs": [
    {
     "name": "stdout",
     "output_type": "stream",
     "text": [
      "(2, 1, 1, 1, 1, 1, 1, 1, 1, 1, 1, 1, 1, 1, 1, 1, 1, 1, 1, 1, 1, 1, 1, 1, 1, 1, 1, 1, 1, 1, 1, 1)\n"
     ]
    },
    {
     "ename": "TypeError",
     "evalue": "unsupported operand type(s) for +: 'Results' and 'Results'",
     "output_type": "error",
     "traceback": [
      "\u001b[1;31m---------------------------------------------------------------------------\u001b[0m",
      "\u001b[1;31mTypeError\u001b[0m                                 Traceback (most recent call last)",
      "Cell \u001b[1;32mIn[17], line 6\u001b[0m\n\u001b[0;32m      4\u001b[0m \u001b[39mprint\u001b[39m(combined_features\u001b[39m.\u001b[39mshape)\n\u001b[0;32m      5\u001b[0m combined_features \u001b[39m=\u001b[39m combined_features\u001b[39m.\u001b[39mreshape(\u001b[39m-\u001b[39m\u001b[39m1\u001b[39m,\u001b[39m1\u001b[39m)\n\u001b[1;32m----> 6\u001b[0m correlation_matrix \u001b[39m=\u001b[39m np\u001b[39m.\u001b[39;49mcorrcoef(combined_features, rowvar\u001b[39m=\u001b[39;49m\u001b[39mFalse\u001b[39;49;00m)\n",
      "File \u001b[1;32m<__array_function__ internals>:180\u001b[0m, in \u001b[0;36mcorrcoef\u001b[1;34m(*args, **kwargs)\u001b[0m\n",
      "File \u001b[1;32mc:\\Users\\aakas\\AppData\\Local\\Programs\\Python\\Python311\\Lib\\site-packages\\numpy\\lib\\function_base.py:2845\u001b[0m, in \u001b[0;36mcorrcoef\u001b[1;34m(x, y, rowvar, bias, ddof, dtype)\u001b[0m\n\u001b[0;32m   2841\u001b[0m \u001b[39mif\u001b[39;00m bias \u001b[39mis\u001b[39;00m \u001b[39mnot\u001b[39;00m np\u001b[39m.\u001b[39m_NoValue \u001b[39mor\u001b[39;00m ddof \u001b[39mis\u001b[39;00m \u001b[39mnot\u001b[39;00m np\u001b[39m.\u001b[39m_NoValue:\n\u001b[0;32m   2842\u001b[0m     \u001b[39m# 2015-03-15, 1.10\u001b[39;00m\n\u001b[0;32m   2843\u001b[0m     warnings\u001b[39m.\u001b[39mwarn(\u001b[39m'\u001b[39m\u001b[39mbias and ddof have no effect and are deprecated\u001b[39m\u001b[39m'\u001b[39m,\n\u001b[0;32m   2844\u001b[0m                   \u001b[39mDeprecationWarning\u001b[39;00m, stacklevel\u001b[39m=\u001b[39m\u001b[39m3\u001b[39m)\n\u001b[1;32m-> 2845\u001b[0m c \u001b[39m=\u001b[39m cov(x, y, rowvar, dtype\u001b[39m=\u001b[39;49mdtype)\n\u001b[0;32m   2846\u001b[0m \u001b[39mtry\u001b[39;00m:\n\u001b[0;32m   2847\u001b[0m     d \u001b[39m=\u001b[39m diag(c)\n",
      "File \u001b[1;32m<__array_function__ internals>:180\u001b[0m, in \u001b[0;36mcov\u001b[1;34m(*args, **kwargs)\u001b[0m\n",
      "File \u001b[1;32mc:\\Users\\aakas\\AppData\\Local\\Programs\\Python\\Python311\\Lib\\site-packages\\numpy\\lib\\function_base.py:2680\u001b[0m, in \u001b[0;36mcov\u001b[1;34m(m, y, rowvar, bias, ddof, fweights, aweights, dtype)\u001b[0m\n\u001b[0;32m   2677\u001b[0m     \u001b[39melse\u001b[39;00m:\n\u001b[0;32m   2678\u001b[0m         w \u001b[39m*\u001b[39m\u001b[39m=\u001b[39m aweights\n\u001b[1;32m-> 2680\u001b[0m avg, w_sum \u001b[39m=\u001b[39m average(X, axis\u001b[39m=\u001b[39;49m\u001b[39m1\u001b[39;49m, weights\u001b[39m=\u001b[39;49mw, returned\u001b[39m=\u001b[39;49m\u001b[39mTrue\u001b[39;49;00m)\n\u001b[0;32m   2681\u001b[0m w_sum \u001b[39m=\u001b[39m w_sum[\u001b[39m0\u001b[39m]\n\u001b[0;32m   2683\u001b[0m \u001b[39m# Determine the normalization\u001b[39;00m\n",
      "File \u001b[1;32m<__array_function__ internals>:180\u001b[0m, in \u001b[0;36maverage\u001b[1;34m(*args, **kwargs)\u001b[0m\n",
      "File \u001b[1;32mc:\\Users\\aakas\\AppData\\Local\\Programs\\Python\\Python311\\Lib\\site-packages\\numpy\\lib\\function_base.py:518\u001b[0m, in \u001b[0;36maverage\u001b[1;34m(a, axis, weights, returned, keepdims)\u001b[0m\n\u001b[0;32m    515\u001b[0m     keepdims_kw \u001b[39m=\u001b[39m {\u001b[39m'\u001b[39m\u001b[39mkeepdims\u001b[39m\u001b[39m'\u001b[39m: keepdims}\n\u001b[0;32m    517\u001b[0m \u001b[39mif\u001b[39;00m weights \u001b[39mis\u001b[39;00m \u001b[39mNone\u001b[39;00m:\n\u001b[1;32m--> 518\u001b[0m     avg \u001b[39m=\u001b[39m a\u001b[39m.\u001b[39;49mmean(axis, \u001b[39m*\u001b[39;49m\u001b[39m*\u001b[39;49mkeepdims_kw)\n\u001b[0;32m    519\u001b[0m     scl \u001b[39m=\u001b[39m avg\u001b[39m.\u001b[39mdtype\u001b[39m.\u001b[39mtype(a\u001b[39m.\u001b[39msize\u001b[39m/\u001b[39mavg\u001b[39m.\u001b[39msize)\n\u001b[0;32m    520\u001b[0m \u001b[39melse\u001b[39;00m:\n",
      "File \u001b[1;32mc:\\Users\\aakas\\AppData\\Local\\Programs\\Python\\Python311\\Lib\\site-packages\\numpy\\core\\_methods.py:180\u001b[0m, in \u001b[0;36m_mean\u001b[1;34m(a, axis, dtype, out, keepdims, where)\u001b[0m\n\u001b[0;32m    177\u001b[0m         dtype \u001b[39m=\u001b[39m mu\u001b[39m.\u001b[39mdtype(\u001b[39m'\u001b[39m\u001b[39mf4\u001b[39m\u001b[39m'\u001b[39m)\n\u001b[0;32m    178\u001b[0m         is_float16_result \u001b[39m=\u001b[39m \u001b[39mTrue\u001b[39;00m\n\u001b[1;32m--> 180\u001b[0m ret \u001b[39m=\u001b[39m umr_sum(arr, axis, dtype, out, keepdims, where\u001b[39m=\u001b[39;49mwhere)\n\u001b[0;32m    181\u001b[0m \u001b[39mif\u001b[39;00m \u001b[39misinstance\u001b[39m(ret, mu\u001b[39m.\u001b[39mndarray):\n\u001b[0;32m    182\u001b[0m     ret \u001b[39m=\u001b[39m um\u001b[39m.\u001b[39mtrue_divide(\n\u001b[0;32m    183\u001b[0m             ret, rcount, out\u001b[39m=\u001b[39mret, casting\u001b[39m=\u001b[39m\u001b[39m'\u001b[39m\u001b[39munsafe\u001b[39m\u001b[39m'\u001b[39m, subok\u001b[39m=\u001b[39m\u001b[39mFalse\u001b[39;00m)\n",
      "\u001b[1;31mTypeError\u001b[0m: unsupported operand type(s) for +: 'Results' and 'Results'"
     ]
    }
   ],
   "source": [
    "\n",
    "\n",
    "combined_features = np.concatenate((pose_estimation, pose_estimation_cloth))\n",
    "#correlation matrix\n",
    "\n",
    "print(combined_features.shape)\n",
    "# combined_features = combined_features.reshape(-1,1)\n",
    "correlation_matrix = np.corrcoef(combined_features, rowvar=False)\n",
    "\n"
   ]
  }
 ],
 "metadata": {
  "kernelspec": {
   "display_name": "Python 3",
   "language": "python",
   "name": "python3"
  },
  "language_info": {
   "codemirror_mode": {
    "name": "ipython",
    "version": 3
   },
   "file_extension": ".py",
   "mimetype": "text/x-python",
   "name": "python",
   "nbconvert_exporter": "python",
   "pygments_lexer": "ipython3",
   "version": "3.11.1"
  }
 },
 "nbformat": 4,
 "nbformat_minor": 2
}
