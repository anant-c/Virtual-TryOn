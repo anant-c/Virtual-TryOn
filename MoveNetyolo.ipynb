{
 "cells": [
  {
   "attachments": {},
   "cell_type": "markdown",
   "metadata": {},
   "source": [
    "# 0. Install and Import Dependencies"
   ]
  },
  {
   "cell_type": "code",
   "execution_count": 7,
   "metadata": {},
   "outputs": [
    {
     "name": "stdout",
     "output_type": "stream",
     "text": [
      "Note: you may need to restart the kernel to use updated packages.\n"
     ]
    },
    {
     "name": "stderr",
     "output_type": "stream",
     "text": [
      "ERROR: Could not find a version that satisfies the requirement tensorflow==2.4.1 (from versions: 2.12.0rc0, 2.12.0rc1, 2.12.0, 2.12.1, 2.13.0rc0, 2.13.0rc1, 2.13.0rc2, 2.13.0, 2.13.1, 2.14.0rc0, 2.14.0rc1, 2.14.0)\n",
      "ERROR: No matching distribution found for tensorflow==2.4.1\n"
     ]
    }
   ],
   "source": [
    "%pip install tensorflow==2.4.1 tensorflow-gpu==2.4.1 opencv-python matplotlib"
   ]
  },
  {
   "cell_type": "code",
   "execution_count": 8,
   "metadata": {},
   "outputs": [],
   "source": [
    "import tensorflow as tf\n",
    "import numpy as np\n",
    "from matplotlib import pyplot as plt\n",
    "from ultralytics import YOLO\n",
    "import cv2\n",
    "from skimage.metrics import structural_similarity as ssim"
   ]
  },
  {
   "attachments": {},
   "cell_type": "markdown",
   "metadata": {},
   "source": [
    "# 1. Load Model"
   ]
  },
  {
   "cell_type": "code",
   "execution_count": 9,
   "metadata": {},
   "outputs": [],
   "source": [
    "model = YOLO('pose.pt', \"v8\") "
   ]
  },
  {
   "cell_type": "code",
   "execution_count": 10,
   "metadata": {},
   "outputs": [
    {
     "name": "stderr",
     "output_type": "stream",
     "text": [
      "\n",
      "image 1/1 c:\\codes\\MACHINE LEARNING\\courseProject\\pose estimation\\Virtual tryon data\\test\\image\\00057_00.jpg: 1280x960 1 person, 7534.3ms\n",
      "Speed: 45.7ms preprocess, 7534.3ms inference, 242.9ms postprocess per image at shape (1, 3, 1280, 960)\n"
     ]
    }
   ],
   "source": [
    "img_dest='Virtual tryon data\\\\test\\\\image\\\\'\n",
    "img_name='00057_00.jpg'\n",
    "orig_img = cv2.imread(img_dest+img_name,0)\n",
    "result=model.predict(img_dest+img_name)"
   ]
  },
  {
   "cell_type": "code",
   "execution_count": 11,
   "metadata": {},
   "outputs": [
    {
     "data": {
      "text/plain": [
       "[ultralytics.engine.results.Results object with attributes:\n",
       " \n",
       " boxes: ultralytics.engine.results.Boxes object\n",
       " keypoints: ultralytics.engine.results.Keypoints object\n",
       " masks: None\n",
       " names: {0: 'person'}\n",
       " orig_img: array([[[222, 222, 222],\n",
       "         [222, 222, 222],\n",
       "         [223, 223, 223],\n",
       "         ...,\n",
       "         [226, 226, 226],\n",
       "         [226, 226, 226],\n",
       "         [226, 226, 226]],\n",
       " \n",
       "        [[222, 222, 222],\n",
       "         [222, 222, 222],\n",
       "         [222, 222, 222],\n",
       "         ...,\n",
       "         [226, 226, 226],\n",
       "         [226, 226, 226],\n",
       "         [226, 226, 226]],\n",
       " \n",
       "        [[222, 222, 222],\n",
       "         [222, 222, 222],\n",
       "         [222, 222, 222],\n",
       "         ...,\n",
       "         [226, 226, 226],\n",
       "         [226, 226, 226],\n",
       "         [226, 226, 226]],\n",
       " \n",
       "        ...,\n",
       " \n",
       "        [[201, 201, 201],\n",
       "         [201, 201, 201],\n",
       "         [201, 201, 201],\n",
       "         ...,\n",
       "         [226, 226, 226],\n",
       "         [226, 226, 226],\n",
       "         [226, 226, 226]],\n",
       " \n",
       "        [[201, 201, 201],\n",
       "         [201, 201, 201],\n",
       "         [201, 201, 201],\n",
       "         ...,\n",
       "         [225, 225, 225],\n",
       "         [225, 225, 225],\n",
       "         [225, 225, 225]],\n",
       " \n",
       "        [[201, 201, 201],\n",
       "         [201, 201, 201],\n",
       "         [201, 201, 201],\n",
       "         ...,\n",
       "         [225, 225, 225],\n",
       "         [225, 225, 225],\n",
       "         [225, 225, 225]]], dtype=uint8)\n",
       " orig_shape: (1024, 768)\n",
       " path: 'c:\\\\codes\\\\MACHINE LEARNING\\\\courseProject\\\\pose estimation\\\\Virtual tryon data\\\\test\\\\image\\\\00057_00.jpg'\n",
       " probs: None\n",
       " save_dir: None\n",
       " speed: {'preprocess': 45.68982124328613, 'inference': 7534.343242645264, 'postprocess': 242.87128448486328}]"
      ]
     },
     "execution_count": 11,
     "metadata": {},
     "output_type": "execute_result"
    }
   ],
   "source": [
    "result"
   ]
  },
  {
   "attachments": {},
   "cell_type": "markdown",
   "metadata": {},
   "source": [
    "# 2. Make Detections"
   ]
  },
  {
   "cell_type": "code",
   "execution_count": 15,
   "metadata": {},
   "outputs": [
    {
     "name": "stdout",
     "output_type": "stream",
     "text": [
      "<class 'ultralytics.engine.results.Results'>\n"
     ]
    }
   ],
   "source": [
    "# Display result\n",
    "img=result[0].plot()\n",
    "# print(type(result[0]))\n",
    "cv2.imshow('MoveNet Lightning', img)\n",
    "cv2.waitKey(0)\n",
    "cv2.destroyAllWindows()"
   ]
  }
 ],
 "metadata": {
  "kernelspec": {
   "display_name": "Python 3",
   "language": "python",
   "name": "python3"
  },
  "language_info": {
   "codemirror_mode": {
    "name": "ipython",
    "version": 3
   },
   "file_extension": ".py",
   "mimetype": "text/x-python",
   "name": "python",
   "nbconvert_exporter": "python",
   "pygments_lexer": "ipython3",
   "version": "3.11.1"
  }
 },
 "nbformat": 4,
 "nbformat_minor": 2
}
