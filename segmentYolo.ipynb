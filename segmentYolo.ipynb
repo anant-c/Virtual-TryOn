{
 "cells": [
  {
   "cell_type": "code",
   "execution_count": 9,
   "metadata": {},
   "outputs": [],
   "source": [
    "import tensorflow as tf\n",
    "import numpy as np\n",
    "from matplotlib import pyplot as plt\n",
    "from ultralytics import YOLO\n",
    "import cv2"
   ]
  },
  {
   "cell_type": "code",
   "execution_count": 10,
   "metadata": {},
   "outputs": [],
   "source": [
    "model = YOLO('seg.pt', \"v8\") \n",
    "model2 = YOLO('pose.pt', \"v8\")"
   ]
  },
  {
   "cell_type": "code",
   "execution_count": 11,
   "metadata": {},
   "outputs": [
    {
     "name": "stderr",
     "output_type": "stream",
     "text": [
      "\n",
      "image 1/1 c:\\codes\\MACHINE LEARNING\\courseProject\\pose estimation\\download.jpeg: 640x640 1 apple, 2773.9ms\n",
      "Speed: 375.3ms preprocess, 2773.9ms inference, 55.8ms postprocess per image at shape (1, 3, 640, 640)\n"
     ]
    }
   ],
   "source": [
    "# img_dest='Virtual tryon data\\\\test\\\\image\\\\'\n",
    "img_name='download.jpeg'\n",
    "result=model.predict(img_name,show_labels=False)"
   ]
  },
  {
   "cell_type": "code",
   "execution_count": 12,
   "metadata": {},
   "outputs": [
    {
     "name": "stderr",
     "output_type": "stream",
     "text": [
      "\n",
      "0: 1280x1280 (no detections), 7072.5ms\n",
      "Speed: 26.3ms preprocess, 7072.5ms inference, 8.0ms postprocess per image at shape (1, 3, 1280, 1280)\n"
     ]
    }
   ],
   "source": [
    "# Display result\n",
    "img=result[0].plot()\n",
    "result1 = model2.predict(img,show_labels=False)\n",
    "img = result1[0].plot()\n",
    "cv2.imshow('MoveNet Lightning', img)\n",
    "cv2.waitKey(0)\n",
    "cv2.destroyAllWindows()"
   ]
  }
 ],
 "metadata": {
  "kernelspec": {
   "display_name": "Python 3",
   "language": "python",
   "name": "python3"
  },
  "language_info": {
   "codemirror_mode": {
    "name": "ipython",
    "version": 3
   },
   "file_extension": ".py",
   "mimetype": "text/x-python",
   "name": "python",
   "nbconvert_exporter": "python",
   "pygments_lexer": "ipython3",
   "version": "3.11.1"
  },
  "orig_nbformat": 4
 },
 "nbformat": 4,
 "nbformat_minor": 2
}
