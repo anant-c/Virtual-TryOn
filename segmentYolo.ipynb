{
 "cells": [
  {
   "cell_type": "code",
   "execution_count": 1,
   "metadata": {},
   "outputs": [],
   "source": [
    "import tensorflow as tf\n",
    "import numpy as np\n",
    "from matplotlib import pyplot as plt\n",
    "from ultralytics import YOLO\n",
    "import cv2"
   ]
  },
  {
   "cell_type": "code",
   "execution_count": 2,
   "metadata": {},
   "outputs": [],
   "source": [
    "model = YOLO('seg.pt', \"v8\") \n",
    "model2 = YOLO('pose.pt', \"v8\")"
   ]
  },
  {
   "cell_type": "code",
   "execution_count": 3,
   "metadata": {},
   "outputs": [
    {
     "name": "stderr",
     "output_type": "stream",
     "text": [
      "\n",
      "image 1/1 c:\\codes\\MACHINE LEARNING\\courseProject\\Virtual TryOn\\cd.jpg: 640x448 1 person, 1652.5ms\n",
      "Speed: 19.4ms preprocess, 1652.5ms inference, 40.6ms postprocess per image at shape (1, 3, 640, 448)\n"
     ]
    }
   ],
   "source": [
    "# img_dest='Virtual tryon data\\\\test\\\\image\\\\'\n",
    "img_name='cd.jpg'\n",
    "result=model.predict(img_name,show_labels=False)"
   ]
  },
  {
   "cell_type": "code",
   "execution_count": 4,
   "metadata": {},
   "outputs": [
    {
     "name": "stderr",
     "output_type": "stream",
     "text": [
      "\n",
      "0: 1280x896 1 person, 5009.9ms\n",
      "Speed: 8.0ms preprocess, 5009.9ms inference, 8.1ms postprocess per image at shape (1, 3, 1280, 896)\n"
     ]
    }
   ],
   "source": [
    "# Display result\n",
    "img=result[0].plot()\n",
    "result1 = model2.predict(img,show_labels=False)\n",
    "img = result1[0].plot()\n",
    "cv2.imshow('Segmentation with background  ', img)\n",
    "cv2.waitKey(0)\n",
    "cv2.destroyAllWindows()"
   ]
  }
 ],
 "metadata": {
  "kernelspec": {
   "display_name": "Python 3",
   "language": "python",
   "name": "python3"
  },
  "language_info": {
   "codemirror_mode": {
    "name": "ipython",
    "version": 3
   },
   "file_extension": ".py",
   "mimetype": "text/x-python",
   "name": "python",
   "nbconvert_exporter": "python",
   "pygments_lexer": "ipython3",
   "version": "3.11.1"
  },
  "orig_nbformat": 4
 },
 "nbformat": 4,
 "nbformat_minor": 2
}
